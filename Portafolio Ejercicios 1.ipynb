{
 "cells": [
  {
   "cell_type": "markdown",
   "id": "d7e08f68",
   "metadata": {},
   "source": [
    "<div style=\"background:#5D6D7E;padding:20px;color:#ffffff;margin-top:10px;\">\n",
    "\n",
    "# NLP - Portafolio de Ejercicios 1\n",
    "\n",
    "## Profesora: Lisibonny Beato\n",
    "### Período 3-2024-2025</div>\n"
   ]
  },
  {
   "cell_type": "code",
   "execution_count": 156,
   "id": "41906f97",
   "metadata": {},
   "outputs": [
    {
     "name": "stdout",
     "output_type": "stream",
     "text": [
      "Requirement already satisfied: numpy in ./.venv/lib/python3.9/site-packages (2.0.2)\n",
      "Requirement already satisfied: pandas in ./.venv/lib/python3.9/site-packages (2.2.3)\n",
      "Requirement already satisfied: matplotlib in ./.venv/lib/python3.9/site-packages (3.9.4)\n",
      "Requirement already satisfied: seaborn in ./.venv/lib/python3.9/site-packages (0.13.2)\n",
      "Requirement already satisfied: nltk in ./.venv/lib/python3.9/site-packages (3.9.1)\n",
      "Requirement already satisfied: python-dateutil>=2.8.2 in ./.venv/lib/python3.9/site-packages (from pandas) (2.9.0.post0)\n",
      "Requirement already satisfied: pytz>=2020.1 in ./.venv/lib/python3.9/site-packages (from pandas) (2025.2)\n",
      "Requirement already satisfied: tzdata>=2022.7 in ./.venv/lib/python3.9/site-packages (from pandas) (2025.2)\n",
      "Requirement already satisfied: contourpy>=1.0.1 in ./.venv/lib/python3.9/site-packages (from matplotlib) (1.3.0)\n",
      "Requirement already satisfied: cycler>=0.10 in ./.venv/lib/python3.9/site-packages (from matplotlib) (0.12.1)\n",
      "Requirement already satisfied: fonttools>=4.22.0 in ./.venv/lib/python3.9/site-packages (from matplotlib) (4.58.0)\n",
      "Requirement already satisfied: kiwisolver>=1.3.1 in ./.venv/lib/python3.9/site-packages (from matplotlib) (1.4.7)\n",
      "Requirement already satisfied: packaging>=20.0 in ./.venv/lib/python3.9/site-packages (from matplotlib) (25.0)\n",
      "Requirement already satisfied: pillow>=8 in ./.venv/lib/python3.9/site-packages (from matplotlib) (11.2.1)\n",
      "Requirement already satisfied: pyparsing>=2.3.1 in ./.venv/lib/python3.9/site-packages (from matplotlib) (3.2.3)\n",
      "Requirement already satisfied: importlib-resources>=3.2.0 in ./.venv/lib/python3.9/site-packages (from matplotlib) (6.5.2)\n",
      "Requirement already satisfied: click in ./.venv/lib/python3.9/site-packages (from nltk) (8.1.8)\n",
      "Requirement already satisfied: joblib in ./.venv/lib/python3.9/site-packages (from nltk) (1.5.0)\n",
      "Requirement already satisfied: regex>=2021.8.3 in ./.venv/lib/python3.9/site-packages (from nltk) (2024.11.6)\n",
      "Requirement already satisfied: tqdm in ./.venv/lib/python3.9/site-packages (from nltk) (4.67.1)\n",
      "Requirement already satisfied: zipp>=3.1.0 in ./.venv/lib/python3.9/site-packages (from importlib-resources>=3.2.0->matplotlib) (3.21.0)\n",
      "Requirement already satisfied: six>=1.5 in ./.venv/lib/python3.9/site-packages (from python-dateutil>=2.8.2->pandas) (1.17.0)\n",
      "Note: you may need to restart the kernel to use updated packages.\n"
     ]
    }
   ],
   "source": [
    "pip install numpy pandas numpy matplotlib seaborn nltk"
   ]
  },
  {
   "cell_type": "code",
   "execution_count": 157,
   "id": "cebb0323",
   "metadata": {},
   "outputs": [],
   "source": [
    "# Importando algunas librerias\n",
    "\n",
    "import numpy as np\n",
    "import pandas as pd\n",
    "import matplotlib.pyplot as plt\n",
    "import seaborn as sns\n",
    "import nltk\n",
    "from nltk.corpus import names, wordnet as wn, webtext as wt"
   ]
  },
  {
   "cell_type": "markdown",
   "id": "e8ebd3b5",
   "metadata": {},
   "source": [
    "## 1. Recolección de datos\n",
    "### Puntuación máxima de la tarea: 1\n",
    "#### Investigue en detalle sobre el corpus webtext de NLTK. Elija un archivo de dicho corpus para trabajar los siguientes puntos y explique en detalle lo que contiene y el motivo de su elección. "
   ]
  },
  {
   "cell_type": "code",
   "execution_count": 158,
   "id": "46fcbd75",
   "metadata": {},
   "outputs": [
    {
     "name": "stderr",
     "output_type": "stream",
     "text": [
      "[nltk_data] Downloading package names to /Users/saratrasv/nltk_data...\n",
      "[nltk_data]   Package names is already up-to-date!\n",
      "[nltk_data] Downloading package wordnet to\n",
      "[nltk_data]     /Users/saratrasv/nltk_data...\n",
      "[nltk_data]   Package wordnet is already up-to-date!\n",
      "[nltk_data] Downloading package webtext to\n",
      "[nltk_data]     /Users/saratrasv/nltk_data...\n",
      "[nltk_data]   Package webtext is already up-to-date!\n"
     ]
    },
    {
     "data": {
      "text/plain": [
       "True"
      ]
     },
     "execution_count": 158,
     "metadata": {},
     "output_type": "execute_result"
    }
   ],
   "source": [
    "nltk.download('names')\n",
    "nltk.download('wordnet')\n",
    "nltk.download('webtext')"
   ]
  },
  {
   "cell_type": "markdown",
   "id": "082add9e",
   "metadata": {},
   "source": [
    "<div style=\"background:#FFFFE0;padding:20px;color:#000000;margin-top:10px;\">\n",
    "    Descargar los corpus de name y wordnet\n",
    "</div>"
   ]
  },
  {
   "cell_type": "code",
   "execution_count": 159,
   "id": "102a5eea",
   "metadata": {},
   "outputs": [
    {
     "data": {
      "text/plain": [
       "['firefox.txt',\n",
       " 'grail.txt',\n",
       " 'overheard.txt',\n",
       " 'pirates.txt',\n",
       " 'singles.txt',\n",
       " 'wine.txt']"
      ]
     },
     "execution_count": 159,
     "metadata": {},
     "output_type": "execute_result"
    }
   ],
   "source": [
    "\n",
    "wt.fileids()"
   ]
  },
  {
   "cell_type": "markdown",
   "id": "1f70b865",
   "metadata": {},
   "source": [
    "<div style=\"background:#FFFFE0;padding:20px;color:#000000;\">\n",
    "    El archivo <b>firefox.txt</b> es genial para trabajar en proyectos de procesamiento de lenguaje natural porque tiene conversaciones reales de internet. Esto hace que el lenguaje sea más cercano a lo que usamos todos los días, lo que es muy útil para entender cómo se comunican las personas. Puedo usarlo para practicar cosas como dividir el texto en palabras o frases, ver si los comentarios son buenos o malos, y encontrar nombres o lugares importantes. Además, como puedo manejarlo fácilmente con Pandas, puedo hacer gráficos y analizar datos sin complicaciones. En resumen, `firefox.txt` es una herramienta súper útil para aprender y experimentar con NLP.\n",
    "</div>"
   ]
  },
  {
   "cell_type": "code",
   "execution_count": 160,
   "id": "2f5aaac9",
   "metadata": {},
   "outputs": [
    {
     "data": {
      "text/html": [
       "<div>\n",
       "<style scoped>\n",
       "    .dataframe tbody tr th:only-of-type {\n",
       "        vertical-align: middle;\n",
       "    }\n",
       "\n",
       "    .dataframe tbody tr th {\n",
       "        vertical-align: top;\n",
       "    }\n",
       "\n",
       "    .dataframe thead th {\n",
       "        text-align: right;\n",
       "    }\n",
       "</style>\n",
       "<table border=\"1\" class=\"dataframe\">\n",
       "  <thead>\n",
       "    <tr style=\"text-align: right;\">\n",
       "      <th></th>\n",
       "      <th>text</th>\n",
       "    </tr>\n",
       "  </thead>\n",
       "  <tbody>\n",
       "    <tr>\n",
       "      <th>0</th>\n",
       "      <td>Cookie Manager: \"Don't allow sites that set removed cookies to set future cookies\" should stay checked\\r</td>\n",
       "    </tr>\n",
       "    <tr>\n",
       "      <th>1</th>\n",
       "      <td>When in full screen mode\\r</td>\n",
       "    </tr>\n",
       "    <tr>\n",
       "      <th>2</th>\n",
       "      <td>Pressing Ctrl-N should open a new browser when only download dialog is left open\\r</td>\n",
       "    </tr>\n",
       "    <tr>\n",
       "      <th>3</th>\n",
       "      <td>add icons to context menu\\r</td>\n",
       "    </tr>\n",
       "    <tr>\n",
       "      <th>4</th>\n",
       "      <td>So called \"tab bar\" should be made a proper toolbar or given the ability collapse / expand.\\r</td>\n",
       "    </tr>\n",
       "    <tr>\n",
       "      <th>...</th>\n",
       "      <td>...</td>\n",
       "    </tr>\n",
       "    <tr>\n",
       "      <th>9997</th>\n",
       "      <td>Exceptions button in Tools -&gt; Options -&gt; Web Features is misleading\\r</td>\n",
       "    </tr>\n",
       "    <tr>\n",
       "      <th>9998</th>\n",
       "      <td>On startup the main window is incorrectly sized according to the workspace of the primary monitor\\r</td>\n",
       "    </tr>\n",
       "    <tr>\n",
       "      <th>9999</th>\n",
       "      <td>Theme uninstaller does not remove jar file\\r</td>\n",
       "    </tr>\n",
       "    <tr>\n",
       "      <th>10000</th>\n",
       "      <td></td>\n",
       "    </tr>\n",
       "    <tr>\n",
       "      <th>10001</th>\n",
       "      <td></td>\n",
       "    </tr>\n",
       "  </tbody>\n",
       "</table>\n",
       "<p>10002 rows × 1 columns</p>\n",
       "</div>"
      ],
      "text/plain": [
       "                                                                                                           text\n",
       "0      Cookie Manager: \"Don't allow sites that set removed cookies to set future cookies\" should stay checked\\r\n",
       "1                                                                                    When in full screen mode\\r\n",
       "2                            Pressing Ctrl-N should open a new browser when only download dialog is left open\\r\n",
       "3                                                                                   add icons to context menu\\r\n",
       "4                 So called \"tab bar\" should be made a proper toolbar or given the ability collapse / expand.\\r\n",
       "...                                                                                                         ...\n",
       "9997                                      Exceptions button in Tools -> Options -> Web Features is misleading\\r\n",
       "9998        On startup the main window is incorrectly sized according to the workspace of the primary monitor\\r\n",
       "9999                                                               Theme uninstaller does not remove jar file\\r\n",
       "10000                                                                                                          \n",
       "10001                                                                                                          \n",
       "\n",
       "[10002 rows x 1 columns]"
      ]
     },
     "execution_count": 160,
     "metadata": {},
     "output_type": "execute_result"
    }
   ],
   "source": [
    "pd.set_option('max_colwidth', None)\n",
    "df = pd.DataFrame(wt.raw('firefox.txt').split('\\n'), columns=['text'])\n",
    "df"
   ]
  },
  {
   "cell_type": "markdown",
   "id": "36d2ba20",
   "metadata": {},
   "source": [
    "## 2. Descripción y exploración de datos\n",
    "### Puntuación máxima de la tarea: 1\n",
    "#### Utilizando pandas realice distintas descriptivas y exploraciones sobre los textos y comente acerca de sus hallazgos"
   ]
  },
  {
   "cell_type": "markdown",
   "id": "c09d3dd6",
   "metadata": {},
   "source": [
    "<div style=\"background:#FFFFE0;padding:20px;color:#000000;\">\n",
    "Se realizó un análisis descriptivo del corpus <b>firefox.txt</b>, obteniendo métricas como la cantidad total de palabras, cantidad de palabras únicas, las palabras más frecuentes, longitud promedio de palabra y longitud promedio de oración. Esto proporciona una visión general del contenido y estructura del texto, permitiendo entender mejor sus características lingüísticas.\n",
    "</div>"
   ]
  },
  {
   "cell_type": "markdown",
   "id": "899c7ce8",
   "metadata": {},
   "source": [
    "<div style=\"background:#FFFFE0;padding:20px;color:#000000;\">\n",
    "Se realizó una exploración descriptiva del archivo <b>firefox.txt</b> utilizando NLTK y pandas. Se observó que el corpus contiene una gran cantidad de palabras, pero muchas de ellas se repiten frecuentemente, lo que es típico en conversaciones reales. La longitud promedio de las palabras y oraciones es consistente con el lenguaje cotidiano. Además, el análisis de las palabras más frecuentes revela términos comunes en discusiones en línea, lo que confirma la naturaleza conversacional del corpus. Estas estadísticas permiten comprender mejor la estructura que conforma.\n",
    "</div>"
   ]
  },
  {
   "cell_type": "code",
   "execution_count": 161,
   "id": "44dc13eb",
   "metadata": {},
   "outputs": [
    {
     "data": {
      "text/plain": [
       "count     89037\n",
       "unique     5868\n",
       "top          in\n",
       "freq       2240\n",
       "dtype: object"
      ]
     },
     "execution_count": 161,
     "metadata": {},
     "output_type": "execute_result"
    }
   ],
   "source": [
    "tokens = wt.words('firefox.txt')\n",
    "filtered_words = [word.lower() for word in tokens if word.isalpha()]\n",
    "s = pd.Series(filtered_words)\n",
    "s.describe()"
   ]
  },
  {
   "cell_type": "code",
   "execution_count": 162,
   "id": "74a2b433",
   "metadata": {},
   "outputs": [
    {
     "name": "stdout",
     "output_type": "stream",
     "text": [
      "Cantidad total de palabras: 89037\n",
      "Cantidad de palabras únicas: 5868\n",
      "Palabras más frecuentes: [('in', 2240), ('to', 2141), ('the', 1905), ('not', 1520), ('when', 1387), ('on', 1214), ('a', 1198), ('is', 1021), ('t', 967), ('and', 889)]\n",
      "Longitud promedio de palabra: 5.05\n",
      "Longitud promedio de oración: 89.57\n"
     ]
    },
    {
     "data": {
      "image/png": "[encoded data removed]",
      "text/plain": [
       "<Figure size 640x480 with 1 Axes>"
      ]
     },
     "metadata": {},
     "output_type": "display_data"
    }
   ],
   "source": [
    "# Exploración descriptiva del corpus firefox.txt\n",
    "# Conteo de palabras, longitud promedio, palabras más frecuentes y longitud de oraciones\n",
    "\n",
    "# Conteo total de palabras\n",
    "num_words = len(filtered_words)\n",
    "\n",
    "# Palabras únicas\n",
    "unique_words = set(filtered_words)\n",
    "num_unique_words = len(unique_words)\n",
    "\n",
    "# Palabra más frecuente\n",
    "freq_dist = nltk.FreqDist(filtered_words)\n",
    "most_common = freq_dist.most_common(10)\n",
    "\n",
    "# Longitud promedio de palabra\n",
    "avg_word_length = sum(len(word) for word in filtered_words) / num_words\n",
    "\n",
    "# Longitud promedio de oración\n",
    "sentences = wt.sents('firefox.txt')\n",
    "avg_sentence_length = sum(len(sent) for sent in sentences) / len(sentences)\n",
    "\n",
    "print(f\"Cantidad total de palabras: {num_words}\")\n",
    "print(f\"Cantidad de palabras únicas: {num_unique_words}\")\n",
    "print(f\"Palabras más frecuentes: {most_common}\")\n",
    "print(f\"Longitud promedio de palabra: {avg_word_length:.2f}\")\n",
    "print(f\"Longitud promedio de oración: {avg_sentence_length:.2f}\")\n",
    "\n",
    "# Visualización de las palabras más frecuentes\n",
    "freq_df = pd.DataFrame(most_common, columns=['Palabra', 'Frecuencia'])\n",
    "sns.barplot(x='Frecuencia', y='Palabra', data=freq_df)\n",
    "plt.title('Top 10 palabras más frecuentes en firefox.txt')\n",
    "plt.show()"
   ]
  },
  {
   "cell_type": "markdown",
   "id": "9d803e21",
   "metadata": {},
   "source": [
    "## 3. Limpieza de datos\n",
    "### Puntuación máxima de la tarea: 2\n",
    "#### Investigue y aplique distintas técnicas de limpieza para el conjunto de textos  y explique las razones de la aplicación de cada una de estas"
   ]
  },
  {
   "cell_type": "markdown",
   "id": "c975ae4d",
   "metadata": {},
   "source": [
    "<div style=\"background:#FFFFE0;padding:20px;color:#000000;\">\n",
    "Se aplico: eliminación de stopwords para reducir ruido, eliminación de signos de puntuación y lematización para obtener la forma base de las palabras. Estas técnicas permiten un análisis más preciso y relevante del texto, facilitando tareas posteriores como el análisis de sentimientos o la extracción de información.\n",
    "</div>"
   ]
  },
  {
   "cell_type": "code",
   "execution_count": 163,
   "id": "4223992e",
   "metadata": {},
   "outputs": [
    {
     "name": "stdout",
     "output_type": "stream",
     "text": [
      "Cantidad de palabras antes de limpiar: 89037\n",
      "Cantidad de palabras después de limpiar: 61163\n",
      "Primeras 20 palabras limpias: ['cookie', 'manager', 'allow', 'site', 'set', 'removed', 'cooky', 'set', 'future', 'cooky', 'stay', 'checked', 'full', 'screen', 'mode', 'pressing', 'ctrl', 'n', 'open', 'new']\n"
     ]
    },
    {
     "name": "stderr",
     "output_type": "stream",
     "text": [
      "[nltk_data] Downloading package stopwords to\n",
      "[nltk_data]     /Users/saratrasv/nltk_data...\n",
      "[nltk_data]   Package stopwords is already up-to-date!\n"
     ]
    }
   ],
   "source": [
    "# Limpieza de datos del texto firefox.txt\n",
    "\n",
    "# 1. Conversión a minúsculas (ya realizado en la exploración)\n",
    "# 2. Eliminación de stopwords\n",
    "# 3. Eliminación de signos de puntuación\n",
    "# 4. Lematización\n",
    "\n",
    "from nltk.corpus import stopwords\n",
    "from nltk.stem import WordNetLemmatizer\n",
    "import string\n",
    "\n",
    "nltk.download('stopwords')\n",
    "lemmatizer = WordNetLemmatizer()\n",
    "stop_words = set(stopwords.words('english'))\n",
    "\n",
    "# Aplicar limpieza\n",
    "cleaned_words = [\n",
    "    lemmatizer.lemmatize(word)\n",
    "    for word in filtered_words\n",
    "    if word not in stop_words and word not in string.punctuation\n",
    "]\n",
    "\n",
    "print(f\"Cantidad de palabras antes de limpiar: {len(filtered_words)}\")\n",
    "print(f\"Cantidad de palabras después de limpiar: {len(cleaned_words)}\")\n",
    "print(\"Primeras 20 palabras limpias:\", cleaned_words[:20])"
   ]
  },
  {
   "cell_type": "markdown",
   "id": "68574439",
   "metadata": {},
   "source": [
    "## 4. Contando palabras por su connotación emocional\n",
    "### Puntuación máxima de la tarea: 2\n",
    "#### Investigue acerca del corpus opinion_lexicon del NLTK y úselo para identificar las palabras con connotaciones positivas y negativas que aparecen en los textos. Siéntase libre de mostrar estadísticas y gráficos de su elección para ilustrar mejor este aspecto de sus datos (Ej. Totales for tipo, palabra más popular por tipo, entre otros)"
   ]
  },
  {
   "cell_type": "markdown",
   "id": "c5ed094c",
   "metadata": {},
   "source": [
    "<div style=\"background:#FFFFE0;padding:20px;color:#000000;\">\n",
    "Se utilizó el corpus opinion_lexicon para identificar palabras con connotación positiva y negativa. Esto ayuda a entender el tono general del texto y permite visualizar la proporción de palabras emocionales presentes.\n",
    "</div>"
   ]
  },
  {
   "cell_type": "code",
   "execution_count": 164,
   "id": "bb62ac78",
   "metadata": {},
   "outputs": [
    {
     "name": "stderr",
     "output_type": "stream",
     "text": [
      "[nltk_data] Downloading package opinion_lexicon to\n",
      "[nltk_data]     /Users/saratrasv/nltk_data...\n",
      "[nltk_data]   Package opinion_lexicon is already up-to-date!\n"
     ]
    }
   ],
   "source": [
    "nltk.download('opinion_lexicon')\n",
    "from nltk.corpus import opinion_lexicon"
   ]
  },
  {
   "cell_type": "code",
   "execution_count": 165,
   "id": "15f9e587",
   "metadata": {},
   "outputs": [
    {
     "name": "stdout",
     "output_type": "stream",
     "text": [
      "Palabras positivas: 1823\n",
      "Palabras negativas: 3530\n"
     ]
    },
    {
     "data": {
      "image/png": "[encoded data removed]",
      "text/plain": [
       "<Figure size 640x480 with 1 Axes>"
      ]
     },
     "metadata": {},
     "output_type": "display_data"
    }
   ],
   "source": [
    "\n",
    "\n",
    "positive_words = set(opinion_lexicon.positive())\n",
    "negative_words = set(opinion_lexicon.negative())\n",
    "\n",
    "pos_count = sum(1 for word in filtered_words if word in positive_words)\n",
    "neg_count = sum(1 for word in filtered_words if word in negative_words)\n",
    "\n",
    "print(f\"Palabras positivas: {pos_count}\")\n",
    "print(f\"Palabras negativas: {neg_count}\")\n",
    "\n",
    "data = pd.DataFrame({'Tipo': ['Positivas', 'Negativas'], 'Cantidad': [pos_count, neg_count]})\n",
    "sns.barplot(x='Tipo', y='Cantidad', data=data)\n",
    "plt.title('Conteo de palabras por connotación emocional')\n",
    "plt.show()"
   ]
  },
  {
   "cell_type": "markdown",
   "id": "20fba5e1",
   "metadata": {},
   "source": [
    "## 5. Wordnet\n",
    "### Puntuación máxima de la tarea: 4\n",
    "#### Investigue sobre el corpus Wordnet, disponible en NLTK. Desarrolle una función en Python que reciba  un conjunto de textos y, usando  Wordnet, devuelva en una única estructura de su elección, los diferentes synsets de cada palabra de acuerdo a la función que ejerce en el texto (sea sustantivo, verbo, adjetivo o adverbio). Pruebe dicha función sobre el conjunto de datos. "
   ]
  },
  {
   "cell_type": "markdown",
   "id": "9bd6754d",
   "metadata": {},
   "source": [
    "<div style=\"background:#FFFFE0;padding:20px;color:#000000;\">\n",
    "En este bloque de código desarrollé dos funciones clave para el análisis semántico usando WordNet. La primera, get_wordnet_pos, convierte las etiquetas gramaticales generadas por NLTK al formato requerido por WordNet, permitiendo identificar si una palabra es sustantivo, verbo, adjetivo o adverbio. La segunda función, extract_synsets_from_texts, toma una lista de textos, tokeniza y etiqueta cada palabra, y luego extrae los diferentes synsets (conjuntos de sinónimos y definiciones) asociados a cada palabra según su función gramatical. Esto facilita explorar los posibles significados y relaciones semánticas de las palabras en contexto, enriqueciendo el análisis lingüístico del corpus.\n",
    "</div>"
   ]
  },
  {
   "cell_type": "code",
   "execution_count": 166,
   "id": "4972defc",
   "metadata": {},
   "outputs": [
    {
     "name": "stderr",
     "output_type": "stream",
     "text": [
      "[nltk_data] Downloading package wordnet to\n",
      "[nltk_data]     /Users/saratrasv/nltk_data...\n",
      "[nltk_data]   Package wordnet is already up-to-date!\n",
      "[nltk_data] Downloading package averaged_perceptron_tagger to\n",
      "[nltk_data]     /Users/saratrasv/nltk_data...\n",
      "[nltk_data]   Package averaged_perceptron_tagger is already up-to-\n",
      "[nltk_data]       date!\n",
      "[nltk_data] Downloading package averaged_perceptron_tagger_eng to\n",
      "[nltk_data]     /Users/saratrasv/nltk_data...\n",
      "[nltk_data]   Package averaged_perceptron_tagger_eng is already up-to-\n",
      "[nltk_data]       date!\n"
     ]
    }
   ],
   "source": [
    "\n",
    "try:\n",
    "    nltk.data.find('corpora/wordnet')\n",
    "    nltk.data.find('taggers/averaged_perceptron_tagger')\n",
    "    nltk.data.find('averaged_perceptron_tagger_eng')\n",
    "except LookupError:\n",
    "    nltk.download('wordnet')\n",
    "    nltk.download('averaged_perceptron_tagger')\n",
    "    nltk.download('averaged_perceptron_tagger_eng')\n",
    "\n"
   ]
  },
  {
   "cell_type": "code",
   "execution_count": null,
   "id": "3be97d12",
   "metadata": {},
   "outputs": [
    {
     "name": "stdout",
     "output_type": "stream",
     "text": [
      "Palabra: class\n",
      "  - class.n.01 (n): a collection of things sharing a common attribute\n",
      "  - class.n.02 (n): a body of students who are taught together\n",
      "  - class.n.03 (n): people having the same social, economic, or educational status\n",
      "  - course.n.01 (n): education imparted in a series of lessons or meetings\n",
      "  - class.n.05 (n): a league ranked by quality\n",
      "  - class.n.06 (n): a body of students who graduate together\n",
      "  - class.n.07 (n): (biology) a taxonomic group containing one or more orders\n",
      "  - class.n.08 (n): elegance in dress or behavior\n",
      "Palabra: is\n",
      "  - be.v.01 (v): have the quality of being; (copula, used with an adjective or a predicate noun)\n",
      "  - be.v.02 (v): be identical to; be someone or something\n",
      "  - be.v.03 (v): occupy a certain position or area; be somewhere\n",
      "  - exist.v.01 (v): have an existence, be extant\n",
      "  - be.v.05 (v): happen, occur, take place\n",
      "  - equal.v.01 (v): be identical or equivalent to\n",
      "  - constitute.v.01 (v): form or compose\n",
      "  - be.v.08 (v): work in a specific place, with a specific subject, or in a specific function\n",
      "  - embody.v.02 (v): represent, as of a character on stage\n",
      "  - be.v.10 (v): spend or use time\n",
      "  - be.v.11 (v): have life, be alive\n",
      "  - be.v.12 (v): to remain unmolested, undisturbed, or uninterrupted -- used only in infinitive form\n",
      "  - cost.v.01 (v): be priced at\n",
      "Palabra: awesome\n",
      "  - amazing.s.02 (a): inspiring awe or admiration or wonder; ; ; ; - Melville\n",
      "Palabra: quick\n",
      "  - quick.s.01 (a): accomplished rapidly and without delay\n",
      "  - flying.s.02 (a): hurried and brief\n",
      "  - agile.s.01 (a): moving quickly and lightly\n",
      "  - quick.s.04 (a): apprehending and responding with speed and sensitivity\n",
      "  - immediate.s.05 (a): performed with little or no delay\n",
      "  - quick.s.06 (a): easily aroused or excited\n",
      "Palabra: brown\n",
      "  - brown.n.01 (n): an orange of low brightness and saturation\n",
      "  - brown.n.02 (n): Scottish botanist who first observed the movement of small particles in fluids now known a Brownian motion (1773-1858)\n",
      "  - brown.n.03 (n): abolitionist who was hanged after leading an unsuccessful raid at Harper's Ferry, Virginia (1800-1859)\n",
      "  - brown_university.n.01 (n): a university in Rhode Island\n"
     ]
    }
   ],
   "source": [
    "from collections import defaultdict\n",
    "\n",
    "\n",
    "def get_wordnet_pos(treebank_tag):\n",
    "    \"\"\"\n",
    "    Convertir etiquetas POS de Treebank a etiquetas POS de WordNet.\n",
    "    Args:\n",
    "    treebank_tag (str): Etiqueta POS de Treebank.\n",
    "    Returns:\n",
    "    str: Etiqueta POS de WordNet correspondiente.\n",
    "    \"\"\"\n",
    "    if treebank_tag.startswith('J'):\n",
    "        return wn.ADJ\n",
    "    elif treebank_tag.startswith('V'):\n",
    "        return wn.VERB\n",
    "    elif treebank_tag.startswith('N'):\n",
    "        return wn.NOUN\n",
    "    elif treebank_tag.startswith('R'):\n",
    "        return wn.ADV\n",
    "    else:\n",
    "        return None\n",
    "\n",
    "def extract_synsets_from_texts(texts):\n",
    "    \"\"\"\n",
    "    Extraer sinsets para cada palabra en un conjunto de textos basado en la categoría gramatical (POS).\n",
    "    Args:\n",
    "    texts (lista de str): Lista de cadenas de texto a procesar.\n",
    "    Returns:\n",
    "    dict: Un diccionario donde las claves son palabras y los valores son listas de tuplas que contienen (nombre del sinset, definición, etiqueta POS).\n",
    "    \"\"\"\n",
    "    synsets_dict = defaultdict(list)\n",
    "    \n",
    "    for text in texts:\n",
    "        try:\n",
    "            words = nltk.word_tokenize(text.lower())\n",
    "            tagged_words = nltk.pos_tag(words)\n",
    "            \n",
    "            for word, tag in tagged_words:\n",
    "                wn_pos = get_wordnet_pos(tag)\n",
    "                if wn_pos:\n",
    "                    synsets = wn.synsets(word, pos=wn_pos)\n",
    "                    for syn in synsets:\n",
    "                        synsets_dict[word].append((syn.name(), syn.definition(), wn_pos))\n",
    "        except Exception as e:\n",
    "            print(f\"Error processing text '{text}': {e}\")\n",
    "            continue\n",
    "    \n",
    "    for word in synsets_dict:\n",
    "        seen = set()\n",
    "        unique_synsets = []\n",
    "        for syn_data in synsets_dict[word]:\n",
    "            if syn_data[0] not in seen:\n",
    "                seen.add(syn_data[0])\n",
    "                unique_synsets.append(syn_data)\n",
    "        synsets_dict[word] = unique_synsets\n",
    "    \n",
    "    return dict(synsets_dict)\n",
    "\n",
    "sample_texts = [\n",
    "    \"nlp class is awesome.\",\n",
    "    \"The quick brown fox jumps over the lazy dog.\",\n",
    "]\n",
    "\n",
    "try:\n",
    "    synsets_result = extract_synsets_from_texts(sample_texts)\n",
    "    \n",
    "    for word, synsets in list(synsets_result.items())[:5]:\n",
    "        print(f\"Palabra: {word}\")\n",
    "        for syn_name, definition, pos in synsets:\n",
    "            print(f\"  - {syn_name} ({pos}): {definition}\")\n",
    "except Exception as e:\n",
    "    print(f\"Error during synset extraction: {e}\")"
   ]
  }
 ],
 "metadata": {
  "kernelspec": {
   "display_name": ".venv",
   "language": "python",
   "name": "python3"
  },
  "language_info": {
   "codemirror_mode": {
    "name": "ipython",
    "version": 3
   },
   "file_extension": ".py",
   "mimetype": "text/x-python",
   "name": "python",
   "nbconvert_exporter": "python",
   "pygments_lexer": "ipython3",
   "version": "3.9.6"
  }
 },
 "nbformat": 4,
 "nbformat_minor": 5
}
